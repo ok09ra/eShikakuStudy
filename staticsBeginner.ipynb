{
 "metadata": {
  "language_info": {
   "codemirror_mode": {
    "name": "ipython",
    "version": 3
   },
   "file_extension": ".py",
   "mimetype": "text/x-python",
   "name": "python",
   "nbconvert_exporter": "python",
   "pygments_lexer": "ipython3",
   "version": "3.9.1-final"
  },
  "orig_nbformat": 2,
  "kernelspec": {
   "name": "python3",
   "display_name": "Python 3",
   "language": "python"
  }
 },
 "nbformat": 4,
 "nbformat_minor": 2,
 "cells": [
  {
   "source": [
    "# 数学I 数研出版"
   ],
   "cell_type": "markdown",
   "metadata": {}
  },
  {
   "source": [
    "## 平均値, 分散, 標準偏差\n",
    "\n",
    "$X = \\{x_1, x_2,x_3, \\cdots x_n\\}$のとき\n",
    "\n",
    "平均値:$\\bar{X} = \\frac{1}{n}(x_1 + x_2 + x_3 + \\cdots x_n)$<br>\n",
    "分散: $V = \\frac{1}{n}\\sum^{n}_{i=1}(x_i - \\bar{x})^2$<br>\n",
    "標準偏差 $\\sigma = \\sqrt{\\frac{1}{n}\\sum^{n}_{i=1}(x_i - \\bar{x})^2}$"
   ],
   "cell_type": "markdown",
   "metadata": {}
  },
  {
   "source": [
    "## 四分位数\n",
    "全データを大きい順に並べ変え，4分割した際の数\n",
    "<br>\n",
    "第三四分位数　上半分のデータの中央値\n",
    "<br>\n",
    "第二四分位数　中央値\n",
    "<br>\n",
    "第一四分位数　下半分のデータの中央値\n"
   ],
   "cell_type": "markdown",
   "metadata": {}
  },
  {
   "source": [
    "## 共分散\n",
    "二次元データ$\\{(x_1,y_1),(x_2,y_2),(x_3,y_3), \\cdots (x_n,y_n)\\}$がある時\n",
    "\n",
    "共分散: $\\sigma_{xy} = \\frac{1}{n}\\{(x_1-\\bar{x})(y_1-\\bar{y}) + (x_2-\\bar{x})(y_2-\\bar{y}) + \\cdots + (x_n-\\bar{x})(y_n-\\bar{y})\\}$\n",
    "共分散は偏差の積の和→スケールが異なる。→標準化する。\n",
    "\n",
    "## 相関係数\n",
    "$r = \\frac{\\sigma_{xy}}{\\sigma{x}\\sigma{y}}(-1<r<1)$"
   ],
   "cell_type": "markdown",
   "metadata": {}
  },
  {
   "source": [
    "# 数学B 数研出版　"
   ],
   "cell_type": "markdown",
   "metadata": {}
  },
  {
   "source": [
    "## 確率変数\n",
    "\n",
    "### 確率変数: 変数が定まるとその確率が決まるもの\n",
    "### Xが確率変数$x_1$となる確率$P(X = x_i)$\n",
    "<br>\n",
    "確率変数はXに対する確率変数の対応を確率分布"
   ],
   "cell_type": "markdown",
   "metadata": {}
  },
  {
   "source": [
    "## 確率変数の期待値，分散，標準偏差\n",
    "\n",
    "確率変数の期待値:\n",
    "$E(x) = \\sum^{n}_{i = 1}x_ip_i$\n",
    "\n",
    "確率変数の分散は，データの分散とは異なり,\n",
    "<br>\n",
    "確率変数の値がどの期待値からどれくらい散らばっているかということを示す。\n",
    "<br>\n",
    "\n",
    "$E(X) = m$の時，\n",
    "<br>\n",
    "確率変数の分散: \n",
    "<br>\n",
    " $\\begin{align} \n",
    " V(x) = E((X-m)^2)\\\\\n",
    "=\\sum^{n}_{i=1}(x_i - m)^2p_i\\\\\n",
    "= \\sum^{n}_{i=1}(x_i^2 - 2mx_i + m^2)p_k\\\\\n",
    "=E(X^2) - 2E(X)E(X) + E(X)^2\\\\\n",
    "=E(X^2) - E(X)^2\n",
    "\\end{align}$ \n",
    "<br>  \n",
    "確率変数の標準偏差:\n",
    "<br>\n",
    "$\\sigma(x) = \\sqrt{V(X)} = \\sqrt{E((X-m)^2)} = \\sqrt{E(X^2)-E(X)^2}$"
   ],
   "cell_type": "markdown",
   "metadata": {}
  },
  {
   "source": [
    "## 二項分布\n",
    "二項分布は一般に1回の試行で事象Aが起こる確率をPとした時に，n回の反復試行においてAがr回起こる確率を\n",
    "<br>\n",
    "${}_{n}C_{r}p^r(1-p)^{n-r}$\n",
    "となる確率分布を二項分布$B(n,p)$という。"
   ],
   "cell_type": "markdown",
   "metadata": {}
  },
  {
   "source": [
    "## 連続型確率変数\n",
    "\n",
    "### 確率密度変数\n",
    "連続的な値をとる連続型確率変数\n",
    "その確率を表す函数$f(x)$を確率密度函数\n",
    "\n",
    "### 連続型確率変数の期待値と分散\n",
    "$E(X) = \\int_{b}^{a}xf(x)dx$\n",
    "<br>\n",
    "$V(X) = \\int_{b}^{a}(x-m)^2f(x)dx$\n"
   ],
   "cell_type": "markdown",
   "metadata": {}
  },
  {
   "source": [
    "## 正規分布\n",
    "\n",
    "正規分布:\n",
    "<br>\n",
    "確率密度函数:$f(x) = \\frac{1}{\\sqrt{2\\pi}\\sigma}e^{-\\frac{(x-m)^2}{2\\sigma^2}}$\n",
    "<br>\n",
    "に従う時，Xは正規分布$N(m,\\sigma^2)$に従うという。\n",
    "<br>\n",
    "期待値:$E(x) = m $\n",
    "<br>\n",
    "期待値:$\\sigma(x) = \\sigma $\n",
    "\n",
    "### 標準正規分布\n",
    "\n",
    "確率変数Xが正規分布$N(m, \\sigma^2)$に従う時に，\n",
    "<br>\n",
    "新しい確率変数$Z = \\frac{X-m}{\\sigma}$を定義すると，\n",
    "<br>\n",
    "Z は$N(0,1)$つまり$f(z) = \\frac{1}{\\sqrt{2\\pi}}e^{-\\frac{z^2}{2}}$に従う。\n"
   ],
   "cell_type": "markdown",
   "metadata": {}
  },
  {
   "source": [
    "## 推定\n",
    "\n"
   ],
   "cell_type": "markdown",
   "metadata": {}
  }
 ]
}